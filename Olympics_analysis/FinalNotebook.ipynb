{
 "cells": [
  {
   "cell_type": "code",
   "execution_count": 1,
   "id": "6ff6c388",
   "metadata": {},
   "outputs": [],
   "source": [
    "import numpy as np\n",
    "import pandas as pd\n",
    "# turning off chained assignment warnings.\n",
    "pd.options.mode.chained_assignment = None  \n",
    "import matplotlib.pyplot as plt\n",
    "import seaborn as sns\n",
    "from os import listdir\n",
    "from os.path import isfile, join\n",
    "import sklearn.metrics\n",
    "import os\n",
    "from matplotlib.offsetbox import OffsetImage, AnnotationBbox\n",
    "import matplotlib.cbook as cbook\n",
    "import cv2\n",
    "import imageio\n",
    "from sklearn.linear_model import LinearRegression\n",
    "import scipy as sp\n",
    "from scipy.stats import chi2\n",
    "from matplotlib import patches\n",
    "import scipy.stats as stats"
   ]
  },
  {
   "cell_type": "markdown",
   "id": "1483eec8",
   "metadata": {},
   "source": [
    "## Cells under defines functions needed for analysis"
   ]
  },
  {
   "cell_type": "code",
   "execution_count": 2,
   "id": "45c4302a",
   "metadata": {},
   "outputs": [],
   "source": [
    "\n",
    "\n",
    "def sizeCompare(objectInformationList, imageFile):\n",
    "    \n",
    "    '''\n",
    "    Creates a plot with different sized version of the image in the file, \n",
    "    image should be black with transparent background for best effect.\n",
    "    The number of objects depends on the length of the objectInformationList\n",
    "    \n",
    "    \n",
    "    Keyword arguments:\n",
    "    objectInformationList --  list of dictionaries containing information of the version of \n",
    "                         the object to plot each dictionary should contain the following parameters \n",
    "                         {color: the color given as a RGBA value where each element ranges from 0 - 1,\n",
    "                         width: width given as an float or integer,\n",
    "                         height:height given as an float or integer,\n",
    "                         label: label to write in legend\n",
    "                         }\n",
    "                         \n",
    "    imageFile -- path to the image file \n",
    "    \n",
    "    \n",
    "    '''\n",
    "    \n",
    "    \n",
    "    \n",
    "    #reads image\n",
    "    img = plt.imread(imageFile)\n",
    "    \n",
    "    #sets DPI to fixed value instead of relying on 72 being default value everywhere\n",
    "    dpi = 72\n",
    "    \n",
    "    #get all the widths\n",
    "    widths = [d[\"width\"] for d in objectInformationList]\n",
    "    \n",
    "    #get avgWidth , last term is for dpi adjustment\n",
    "    avgWidth = np.mean(widths) * (dpi / 72)\n",
    "    \n",
    "    #give padding of 0.25 average on both sides\n",
    "    pixelWidth = 1.5 * avgWidth * len(objectInformationList) \n",
    "    \n",
    "    xSpacing = 0.25 * avgWidth \n",
    "    \n",
    "    fig_dims = ((pixelWidth / dpi), 4)\n",
    "    \n",
    "    #create figure\n",
    "    fig, ax = plt.subplots(figsize = fig_dims , dpi = dpi)\n",
    "    \n",
    "    # gets highest yvalue\n",
    "    yMax = max([d[\"height\"] for d in objectInformationList ])\n",
    "    \n",
    "    #ylim is 10% higher than highest value\n",
    "    yLim = yMax * 1.1\n",
    "\n",
    "    ax.set_ylim((0, yLim))\n",
    "    ax.set_xlim((0, pixelWidth))\n",
    "\n",
    "    # get height and width of plot area\n",
    "    bbox = ax.get_window_extent().transformed(fig.dpi_scale_trans.inverted())\n",
    "    width, height = bbox.width, bbox.height\n",
    "    \n",
    "    \n",
    "    #Max number of pixels that can be plotted, this is the number of pixels yMax will get\n",
    "    maxPix = (height * fig.dpi) / 1.1\n",
    "    \n",
    "    #holds information about where to place the net object on x axis\n",
    "    xPlace = xSpacing\n",
    "    \n",
    "    #loops through all objects that is going to be plotted\n",
    "    for tmpDict in objectInformationList:\n",
    "        \n",
    "        #gets info from the dict \n",
    "        tmpCol = tmpDict[\"color\"]\n",
    "        tmpWid = tmpDict[\"width\"]\n",
    "        tmpHeight = tmpDict[\"height\"]\n",
    "        \n",
    "        #sets all non zero values to 1 and changes color \n",
    "        tmpImg = np.ceil(img)\n",
    "        tmpImg[np.all(tmpImg == (0, 0, 0, 1 ), axis = - 1)] = tmpCol\n",
    "        \n",
    "        #resizes image\n",
    "        tmpImg = cv2.resize(tmpImg, (int(tmpWid), int(maxPix * (tmpHeight / yMax))) )\n",
    "        xPlace += tmpWid/2\n",
    "    \n",
    "        #draws image in figure \n",
    "        # zoom to handle dpi change\n",
    "        imagebox = OffsetImage(tmpImg, zoom=72/dpi)\n",
    "        ab = AnnotationBbox(imagebox, (xPlace, tmpHeight/2   ), frameon=False)\n",
    "        ax.add_artist(ab)\n",
    "\n",
    "        #new xplace     \n",
    "        xPlace += tmpWid / 2 + xSpacing\n",
    "        \n",
    "    #after drawing all objects, draw lines outside of range for the figure to create a legend *Insert bigBrainMeme.jpg* \n",
    "    for tmpDict in objectInformationList:\n",
    "        tmpCol = tmpDict[\"color\"]\n",
    "        tmpLabel = tmpDict[\"label\"]\n",
    "        \n",
    "        plt.plot([xPlace + 1, xPlace + 2], [100, 100], label = tmpLabel, color = tmpCol)\n",
    "    \n",
    "    #set axes \n",
    "    ax.set_xlim((0,xPlace))\n",
    "    \n",
    "    #Want flat bottom line\n",
    "    ax.set_xticks([xPlace + 1 ])\n",
    "    ax.set_xticklabels(\"\")\n",
    "    \n",
    "    \n",
    "    ax.legend(loc='center left', bbox_to_anchor=(1, 0.5))\n",
    "    ax.set_facecolor('none')\n",
    "    \n",
    "    return fig, ax"
   ]
  },
  {
   "cell_type": "code",
   "execution_count": 3,
   "id": "011df443",
   "metadata": {},
   "outputs": [],
   "source": [
    "\n",
    "def multivariateGaussianMLE(data):\n",
    "    '''\n",
    "    Returns population mean and variance of a dataset \n",
    "    '''\n",
    "    #mean\n",
    "    mu = np.mean(data,axis = 0)\n",
    "    \n",
    "    #covariance\n",
    "    diffs = data - mu\n",
    "    dot = np.dot(diffs.T, diffs)\n",
    "    sigma = dot/data.shape[0]\n",
    "    \n",
    "    return mu, sigma\n"
   ]
  },
  {
   "cell_type": "code",
   "execution_count": 4,
   "id": "8347a1cd",
   "metadata": {},
   "outputs": [],
   "source": [
    "def genVar(Data, grouping, nPointsFiltering, calcVars ):\n",
    "    \n",
    "    ''' \n",
    "    Groups by variables in grouping and calulates the mean and the generalized variance from the variables in calcVars.\n",
    "    Generalized variance is calculated by taking the determinant of the covariance matrix for each group to get a \n",
    "    scalar value for the variance making it easier to compare how spread out different groups are. \n",
    "    '''\n",
    "    \n",
    "    #group data and count observations in each group\n",
    "    groupedData = data.groupby(grouping)\n",
    "    groupedData = groupedData[\"ID\"].count()\n",
    "    groupedData.name = \"nDataPoints\"\n",
    "\n",
    "    #filter out the groupings which have to few observations\n",
    "    filteredData = pd.merge(data,groupedData, left_on = grouping, right_on = grouping, how = \"left\")\n",
    "    filteredData = filteredData[filteredData[\"nDataPoints\"] > nPointsFiltering]\n",
    "    filteredData = filteredData.groupby(grouping)\n",
    "\n",
    "    #vectors to hold the results\n",
    "    genVarVec = []\n",
    "    countVec = []\n",
    "    #loop over all groups, loop needed because need access to full group, agg wont work :(\n",
    "    for name, group in filteredData:\n",
    "        genVarVec.append( np.linalg.det( multivariateGaussianMLE( group[calcVars] )[1] ))\n",
    "        countVec.append(group.shape[0])\n",
    "\n",
    "\n",
    "    aggData = filteredData[calcVars].agg(\"mean\")\n",
    "    aggData = aggData.reset_index()\n",
    "    retFrame = pd.concat([aggData,pd.DataFrame({\"GenVec\":genVarVec, \"nObservations\":countVec})], axis = 1)\n",
    "    retFrame = retFrame.sort_values(\"GenVec\",ascending = False)\n",
    "    \n",
    "    return retFrame"
   ]
  },
  {
   "cell_type": "code",
   "execution_count": 5,
   "id": "9d45575a",
   "metadata": {},
   "outputs": [],
   "source": [
    "\n",
    "def findDiff(data ,grouping, nPointsFiltering, calcVars):\n",
    "    '''\n",
    "    Calculates the highest difference in calc vars using euclidean distance. \n",
    "    Filters by nPointsFiltering so that each group contains more than a certain number of observations.\n",
    "    \n",
    "    '''\n",
    "    #groups data by grouping vector and counts number of obsercations in each group\n",
    "    groupedData = data.groupby(grouping)\n",
    "    groupedData = groupedData[\"ID\"].count()\n",
    "    groupedData.name = \"nDataPoints\"\n",
    "\n",
    "    #filters data \n",
    "    filteredData = pd.merge(data,groupedData, left_on = grouping, right_on = grouping, how = \"left\")\n",
    "    filteredData = filteredData[filteredData[\"nDataPoints\"] > nPointsFiltering]\n",
    "    filteredData = filteredData.groupby(grouping)\n",
    "\n",
    "\n",
    "    # calculates the mean for each group and creates a distance matrix between groups\n",
    "    aggData = filteredData[calcVars].agg(\"mean\")\n",
    "    distMat = sklearn.metrics.pairwise.euclidean_distances(aggData,aggData)\n",
    "    \n",
    "    \n",
    "    #since argmax returns just one number, use // to get the rows and % to get the the column\n",
    "    #and return the two rows with highest difference\n",
    "    return aggData.iloc[[np.argmax(distMat) // distMat.shape[0], np.argmax(distMat) % distMat.shape[0] ],:]  "
   ]
  },
  {
   "cell_type": "code",
   "execution_count": 6,
   "id": "e8bedf71",
   "metadata": {},
   "outputs": [],
   "source": [
    "\n",
    "def diffInSport(data, grouping, nPointsFiltering, nYearsFiltering, calcVars):\n",
    "    '''\n",
    "    Finds the trend for each variable in calcVars over time for each grouping. \n",
    "    This is done by getting the trend as the slope of a linear regression for each variable. \n",
    "    Filters by number of observations in each group and number of years data is available for.\n",
    "    \n",
    "    '''\n",
    "    \n",
    "    #inserts year into grouping if it is not there\n",
    "    if \"Year\" not in grouping:\n",
    "        grouping.insert(0,\"Year\")\n",
    "    \n",
    "    #groups data and gets number of observations in each group\n",
    "    groupedData = data.groupby(grouping)\n",
    "    groupedData = groupedData[\"ID\"].count()\n",
    "    groupedData.name = \"nDataPoints\"\n",
    "\n",
    "    #joins number of observations and filters data\n",
    "    filteredData = pd.merge(data,groupedData, left_on = grouping, right_on = grouping, how = \"left\")\n",
    "    filteredData = filteredData[filteredData[\"nDataPoints\"] > nPointsFiltering]\n",
    "\n",
    "    #Remove year from grouping\n",
    "    grouping.remove(\"Year\")\n",
    "    \n",
    "    #group by just number of years \n",
    "    groupedData = filteredData.groupby(grouping)\n",
    "    groupedData = groupedData[\"Year\"].nunique()\n",
    "    groupedData.name = \"nYears\"\n",
    "\n",
    "    #filter by number of year observations\n",
    "    filteredData = pd.merge(data,groupedData, left_on = grouping, right_on = grouping, how = \"left\")\n",
    "    filteredData = filteredData[filteredData[\"nYears\"] > nYearsFiltering]\n",
    "    \n",
    "    # groups by grouping again, this time filtered by number of years observed.\n",
    "    filteredData = filteredData.groupby(grouping)\n",
    "\n",
    "    #dict to hold data, will become dataframe\n",
    "    tmpDict = {}\n",
    "\n",
    "    #goes over each group\n",
    "    for name, group in filteredData:\n",
    "\n",
    "        #calculates the trend as the slope for each variable in calcVar and inserts into Dict\n",
    "        for var in calcVars:\n",
    "            reg = LinearRegression().fit(group[\"Year\"].values.reshape(-1, 1), group[var].values)\n",
    "            if var not in tmpDict:\n",
    "                tmpDict[var] = [reg.coef_[0]]\n",
    "            else:\n",
    "                tmpDict[var].append(reg.coef_[0])\n",
    "        \n",
    "        #inserts the event name into the tmpDict \n",
    "        if \"Group\" not in tmpDict:\n",
    "            tmpDict[\"Group\"] = [name]\n",
    "        else:\n",
    "            tmpDict[\"Group\"].append(name)\n",
    "            \n",
    "    #creates a dataframe of the dict and returns it      \n",
    "    retFrame = pd.DataFrame(tmpDict)\n",
    "    \n",
    "    #calculates the size of the vector describing the change \n",
    "    retFrame[\"ChangeSize\"] = np.linalg.norm(retFrame[calcVars],axis = 1)\n",
    "    \n",
    "    retFrame = retFrame.sort_values(\"ChangeSize\" , ascending = False)\n",
    "    return retFrame"
   ]
  },
  {
   "cell_type": "code",
   "execution_count": 7,
   "id": "98f316c9",
   "metadata": {},
   "outputs": [],
   "source": [
    "# function taken from https://matplotlib.org/devdocs/gallery/statistics/confidence_ellipse.html\n",
    "\n",
    "\n",
    "from matplotlib.patches import Ellipse\n",
    "import matplotlib.transforms as transforms\n",
    "\n",
    "def confidence_ellipse(x, y, ax, n_std=3.0, facecolor='none', **kwargs):\n",
    "    \"\"\"\n",
    "    Create a plot of the covariance confidence ellipse of *x* and *y*.\n",
    "\n",
    "    Parameters\n",
    "    ----------\n",
    "    x, y : array-like, shape (n, )\n",
    "        Input data.\n",
    "\n",
    "    ax : matplotlib.axes.Axes\n",
    "        The axes object to draw the ellipse into.\n",
    "\n",
    "    n_std : float\n",
    "        The number of standard deviations to determine the ellipse's radiuses.\n",
    "\n",
    "    **kwargs\n",
    "        Forwarded to `~matplotlib.patches.Ellipse`\n",
    "\n",
    "    Returns\n",
    "    -------\n",
    "    matplotlib.patches.Ellipse\n",
    "    \"\"\"\n",
    "    if x.size != y.size:\n",
    "        raise ValueError(\"x and y must be the same size\")\n",
    "\n",
    "    cov = np.cov(x, y)\n",
    "    pearson = cov[0, 1]/np.sqrt(cov[0, 0] * cov[1, 1])\n",
    "    # Using a special case to obtain the eigenvalues of this\n",
    "    # two-dimensionl dataset.\n",
    "    ell_radius_x = np.sqrt(1 + pearson)\n",
    "    ell_radius_y = np.sqrt(1 - pearson)\n",
    "    ellipse = Ellipse((0, 0), width=ell_radius_x * 2, height=ell_radius_y * 2,\n",
    "                      facecolor=facecolor, **kwargs)\n",
    "\n",
    "    # Calculating the stdandard deviation of x from\n",
    "    # the squareroot of the variance and multiplying\n",
    "    # with the given number of standard deviations.\n",
    "    scale_x = np.sqrt(cov[0, 0]) * n_std\n",
    "    mean_x = np.mean(x)\n",
    "\n",
    "    # calculating the stdandard deviation of y ...\n",
    "    scale_y = np.sqrt(cov[1, 1]) * n_std\n",
    "    mean_y = np.mean(y)\n",
    "\n",
    "    transf = transforms.Affine2D() \\\n",
    "        .rotate_deg(45) \\\n",
    "        .scale(scale_x, scale_y) \\\n",
    "        .translate(mean_x, mean_y)\n",
    "\n",
    "    ellipse.set_transform(transf + ax.transData)\n",
    "    return ax.add_patch(ellipse)"
   ]
  },
  {
   "cell_type": "code",
   "execution_count": 8,
   "id": "a782bcf2",
   "metadata": {},
   "outputs": [],
   "source": [
    "def createGifFiles(data,outputFolder, events, nObs, hue = True):\n",
    "    '''\n",
    "    Creates files for Gif, run createGif to get the gif.\n",
    "    '''\n",
    "\n",
    "    tmpData = data[ ( data.Event.isin(events))]\n",
    "    \n",
    "    #if we want to compare winter and summer sports we need to shift winter olympics back 2 years after 1992\n",
    "    #as they became split by then.\n",
    "    tmpData.loc[(tmpData[\"Season\"] == \"Winter\") & (tmpData[\"Year\"] > 1992),tmpData.columns ==\"Year\"] = \\\n",
    "        tmpData.loc[(tmpData[\"Season\"] == \"Winter\") & (tmpData[\"Year\"] > 1992),tmpData.columns ==\"Year\"] - 2 \n",
    "\n",
    "    years = tmpData.Year.unique()\n",
    "    years.sort()\n",
    "    \n",
    "    #To have constant axises \n",
    "    minHeight = min(tmpData[\"Height\"])\n",
    "    maxHeight = max(tmpData[\"Height\"])\n",
    "    minWeight = min(tmpData[\"Weight\"])\n",
    "    maxWeight = max(tmpData[\"Weight\"])\n",
    "    \n",
    "    # loops over all the years\n",
    "    for year in years:\n",
    "        counts = tmpData[(tmpData.Year == year)].groupby(\"Event\")[\"ID\"].count()\n",
    "        #only want years when both events have over nObs observations\n",
    "        if(len(counts) == len(events)) & np.all(counts > nObs):\n",
    "            \n",
    "            fig, ax = plt.subplots()\n",
    "            \n",
    "            if hue:\n",
    "                sns.scatterplot(x = \"Weight\",y =\"Height\",hue = \"Event\", data=tmpData[(tmpData.Year == year)], hue_order = events)\n",
    "            else:\n",
    "                sns.scatterplot(x = \"Weight\",y =\"Height\", data=tmpData[(tmpData.Year == year)])\n",
    "\n",
    "            ax.set_ylim(minHeight * 0.9, maxHeight * 1.1)\n",
    "            ax.set_xlim(minWeight * 0.9, maxWeight * 1.1)\n",
    "            \n",
    "            ax.set_ylabel(\"Height (Cm)\")\n",
    "            ax.set_xlabel(\"Weight (Kg)\")\n",
    "            if hue:\n",
    "                ax.legend(loc='center left', bbox_to_anchor=(0, 0.9))\n",
    "            ax.title.set_text(year)\n",
    "\n",
    "            plt.savefig(outputFolder+\"/forGifFile\" + str(year) +\".png\")\n",
    "            plt.close()\n"
   ]
  },
  {
   "cell_type": "code",
   "execution_count": 9,
   "id": "565ff7a9",
   "metadata": {},
   "outputs": [],
   "source": [
    "def createGifFilesFull(data,outputFolder, events, nObs, hue = True):\n",
    "\n",
    "    '''\n",
    "    Similair to createGifFiles but with slight changes to \n",
    "    '''\n",
    "    \n",
    "    tmpData = data[ ( data.Event.isin(events))]\n",
    "    \n",
    "    #if we want to compare winter and summer sports we need to shift winter olympics back 2 years after 1992\n",
    "    #as they became split by then.\n",
    "    tmpData.loc[(tmpData[\"Season\"] == \"Winter\") & (tmpData[\"Year\"] > 1992),tmpData.columns ==\"Year\"] = \\\n",
    "        tmpData.loc[(tmpData[\"Season\"] == \"Winter\") & (tmpData[\"Year\"] > 1992),tmpData.columns ==\"Year\"] - 2 \n",
    "\n",
    "    years = tmpData.Year.unique()\n",
    "    years.sort()\n",
    "\n",
    "    minHeight = min(tmpData[\"Height\"])\n",
    "    maxHeight = max(tmpData[\"Height\"])\n",
    "    minWeight = min(tmpData[\"Weight\"])\n",
    "    maxWeight = max(tmpData[\"Weight\"])\n",
    "    \n",
    "    for year in years:\n",
    "        fig, ax = plt.subplots(1,2, figsize = (8,6) , dpi = 72)\n",
    "        \n",
    "        #if there is no female data set a point outside of visible area so there is no crash when trying to remove legend.\n",
    "        fData = tmpData[(tmpData.Sex == \"F\") & (tmpData[\"Year\"] == year)]\n",
    "        mData = tmpData[(tmpData.Sex == \"M\") & (tmpData[\"Year\"] == year)]\n",
    "        \n",
    "        ax1  = sns.scatterplot(y = \"Height\" ,x = \"Weight\", hue = \"Sport\", alpha = 0.2, data = fData , ax=ax[0] )\n",
    "        ax2  = sns.scatterplot(y = \"Height\" ,x = \"Weight\", hue = \"Sport\", alpha = 0.2, data = mData , ax=ax[1])\n",
    "\n",
    "\n",
    "\n",
    "        #axes shuold be equal\n",
    "        ax1.set_ylim((minHeight * 0.9 ,maxHeight * 1.1))\n",
    "        ax2.set_ylim((minHeight * 0.9 ,maxHeight * 1.1))\n",
    "\n",
    "        ax1.set_xlim((minWeight * 0.5 ,maxWeight * 1.1))\n",
    "        ax2.set_xlim((minWeight * 0.5 ,maxWeight * 1.1))\n",
    "\n",
    "        #legend will be very long, better to just remove\n",
    "        # if there is not data there will be legend to remove so need to check that first\n",
    "        \n",
    "        if fData.shape[0] != 0 :\n",
    "            ax1.get_legend().remove()\n",
    "            \n",
    "        if mData.shape[0] != 0 :   \n",
    "            ax2.get_legend().remove()\n",
    "\n",
    "        ax1.title.set_text(\"Female\")\n",
    "        ax2.title.set_text(\"Male\")\n",
    "\n",
    "        ax1.set_xlabel(\"Weight (Kg)\")\n",
    "        ax2.set_xlabel(\"Weight (Kg)\")\n",
    "\n",
    "        ax1.set_ylabel(\"Height (Cm)\")\n",
    "        ax2.set_ylabel(\"Height (Cm)\")\n",
    "        fig.tight_layout(pad=4)\n",
    "        fig.suptitle(\"Height and weight of olympic athletes, split by gender \\n \" + str(year) +\" Athletes: \" + str(tmpData[(tmpData.Year == year)].shape[0]) + \", Events: \" +str(len(tmpData[(tmpData.Year == year)][\"Event\"].unique())))\n",
    "        plt.savefig(outputFolder+\"/forGifFile\" + str(year) +\".png\")\n",
    "        plt.close()"
   ]
  },
  {
   "cell_type": "code",
   "execution_count": 10,
   "id": "92eb20fb",
   "metadata": {},
   "outputs": [],
   "source": [
    "def createGif(outputname,outputFolder, duration = 1):\n",
    "\n",
    "    images = []\n",
    "    for filename in os.listdir(outputFolder):\n",
    "        images.append(imageio.imread(outputFolder + filename))\n",
    "\n",
    "    imageio.mimsave(outputname + '.gif', images, duration = duration)"
   ]
  },
  {
   "cell_type": "code",
   "execution_count": 11,
   "id": "546fd911",
   "metadata": {},
   "outputs": [],
   "source": [
    "def plotSpreads(data, events, years, n_std=2 ):\n",
    "    \n",
    "    fig, ax = plt.subplots(figsize = (8,6))\n",
    "    if not years is None:\n",
    "        tmpData = data[ (data[\"Year\"] == years[0]) & (data[\"Event\"] == events[0]) ]\n",
    "        ax.scatter(tmpData[\"Weight\"], tmpData[\"Height\"], s=2, alpha = 0.5, color = \"blue\", label = events[0] + \" \" + str(years[0]))\n",
    "    else:\n",
    "        tmpData = data[(data[\"Event\"] == events[0]) ]\n",
    "        ax.scatter(tmpData[\"Weight\"], tmpData[\"Height\"], s=2, alpha = 0.5, color = \"blue\", label = events[0])\n",
    "    \n",
    "    \n",
    "    confidence_ellipse(tmpData[\"Weight\"],tmpData[\"Height\"],ax , edgecolor='blue' ,n_std = n_std)\n",
    "\n",
    "    if not years is None:\n",
    "        tmpData = data[ (data[\"Year\"] == years[1]) & (data[\"Event\"] == events[1]) ]\n",
    "        ax.scatter(tmpData[\"Weight\"], tmpData[\"Height\"], s=2, alpha = 0.5, color = \"orange\", label = events[1] + \" \" + str(years[1]))\n",
    "\n",
    "    else:\n",
    "        tmpData = data[(data[\"Event\"] == events[1])]\n",
    "        ax.scatter(tmpData[\"Weight\"], tmpData[\"Height\"], s=2, alpha = 0.5, color = \"orange\", label = events[1])\n",
    "\n",
    "    \n",
    "    confidence_ellipse(tmpData[\"Weight\"],tmpData[\"Height\"],ax , edgecolor='orange', alpha = 0.5, n_std = n_std)\n",
    "    \n",
    "    ax.set_ylabel(\"Height (Cm)\")\n",
    "    ax.set_xlabel(\"Weight (Kg)\")\n",
    "    \n",
    "    fig.legend(loc='center left', bbox_to_anchor=(0.13, 0.83))\n",
    "    fig.suptitle('Spread of weight and height for athletes in different olympic sports \\n Ellipses indicate ' + str(n_std) + ' standard deviations', fontsize = 16)\n",
    "    plt.show()"
   ]
  },
  {
   "cell_type": "code",
   "execution_count": 12,
   "id": "64260bbb",
   "metadata": {},
   "outputs": [],
   "source": [
    "def cleanData(data, analysisVars = [\"Height\",\"Weight\"],\n",
    "                  groupingVars = [\"Year\",\"Event\"], idVar = \"Name\",\n",
    "                 filterPercent = 0.5):\n",
    "    \n",
    "    #counts all rows to exclude as the rows that has NAs in oen of the analysis variables\n",
    "    data[\"Exclude\"] = np.sum(np.isnan(data[analysisVars]),axis=1) > 0\n",
    "    \n",
    "    #group by groupvariables and use the id var to couunt how many in each group and sums the number of excluded\n",
    "    countExcluded = data.groupby(groupingVars)[[idVar,\"Exclude\"]].agg({idVar:\"count\",\"Exclude\":sum}).reset_index()\n",
    "    \n",
    "    #Calculates the percentage of excluded rows due to having NAs\n",
    "    countExcluded[\"percExcluded\"] = countExcluded[\"Exclude\"]/countExcluded[idVar]\n",
    "    \n",
    "    #inserts the percExcluded into the full data\n",
    "    data = data.merge(countExcluded[groupingVars + [\"percExcluded\"]], left_on = groupingVars, right_on = groupingVars, how = \"left\" )\n",
    "    \n",
    "    #drops all rows that has NAs in the groupingVars and has over a certain percentage of excluded from the grouping\n",
    "    data.dropna(subset = analysisVars , inplace = True)\n",
    "    data = data[data[\"percExcluded\"] < filterPercent]\n",
    "    \n",
    "    return data"
   ]
  },
  {
   "cell_type": "code",
   "execution_count": 13,
   "id": "8acb8007",
   "metadata": {},
   "outputs": [],
   "source": [
    "#Define mahalanobis distance\n",
    "def mahalanobis(x=None, data=None, cov=None):\n",
    "    x_minus_mu = x - np.mean(data)\n",
    "    if not cov:\n",
    "        cov = np.cov(data.values.T)\n",
    "    inv_covmat = sp.linalg.inv(cov)\n",
    "    left_term = np.dot(x_minus_mu, inv_covmat)\n",
    "    mahal = np.dot(left_term, x_minus_mu.T)\n",
    "    return mahal.diagonal()"
   ]
  },
  {
   "cell_type": "markdown",
   "id": "d78a0b82",
   "metadata": {},
   "source": [
    "# EMPTY"
   ]
  },
  {
   "cell_type": "markdown",
   "id": "58766bb1",
   "metadata": {},
   "source": [
    "# EMPTY"
   ]
  },
  {
   "cell_type": "code",
   "execution_count": 16,
   "id": "14ccc4fe",
   "metadata": {},
   "outputs": [],
   "source": [
    "#reads data and drops observations which does not have age/weight\n",
    "dataFile = \"data_olympics/athlete_events.csv\"\n",
    "data = pd.read_csv(dataFile)\n"
   ]
  },
  {
   "cell_type": "code",
   "execution_count": 17,
   "id": "f2123268",
   "metadata": {},
   "outputs": [
    {
     "data": {
      "image/png": "[encoded data removed]",
      "text/plain": [
       "<Figure size 720x576 with 2 Axes>"
      ]
     },
     "metadata": {
      "needs_background": "light"
     },
     "output_type": "display_data"
    }
   ],
   "source": [
    "#Want to see where we are going to remove data \n",
    "data[\"Exclude\"] = np.sum(np.isnan(data[[\"Height\",\"Weight\"]]),axis=1) > 0\n",
    "countExcluded = data.groupby([\"Year\",\"Event\"])[[\"Name\",\"Exclude\"]].agg({\"Name\":\"count\",\"Exclude\":sum}).reset_index()\n",
    "\n",
    "countExcluded[\"percExcluded\"] = countExcluded[\"Exclude\"]/countExcluded[\"Name\"]\n",
    "\n",
    "fig,ax = plt.subplots(1,2,figsize = (10,8))\n",
    "ax0 = sns.barplot(x = \"Year\", y =  \"Exclude\", color=\"blue\" , data = countExcluded ,ax = ax[0], ci = None, estimator=sum)\n",
    "ax1 = sns.barplot(x = \"Event\", y =  \"percExcluded\", color=\"orange\" , data = countExcluded, ax = ax[1], ci = None)\n",
    "\n",
    "\n",
    "ax0.title.set_text(\"NA values distributed over years\")\n",
    "ax0.set_xticks([])\n",
    "ax0.set_ylabel(\"Entries removed\")\n",
    "ax0.set_xlabel(\"Year\")\n",
    "\n",
    "\n",
    "ax1.axes.xaxis.set_ticklabels([])\n",
    "ax1.title.set_text(\"NA values distributed over Events\")\n",
    "\n",
    "ax1.set_ylabel(\"Entries removed (%)\")\n",
    "plt.show()"
   ]
  },
  {
   "cell_type": "code",
   "execution_count": 18,
   "id": "5ec3e328",
   "metadata": {},
   "outputs": [
    {
     "name": "stdout",
     "output_type": "stream",
     "text": [
      "(199196, 17)\n"
     ]
    }
   ],
   "source": [
    "data = cleanData(data)\n",
    "print(data.shape)"
   ]
  },
  {
   "cell_type": "code",
   "execution_count": 19,
   "id": "c8863810",
   "metadata": {},
   "outputs": [
    {
     "data": {
      "image/png": "[encoded data removed]",
      "text/plain": [
       "<Figure size 576x432 with 2 Axes>"
      ]
     },
     "metadata": {
      "needs_background": "light"
     },
     "output_type": "display_data"
    }
   ],
   "source": [
    "# plots full dataset split by male and female, color by sport\n",
    "fig, ax = plt.subplots(1,2, figsize = (8,6) , dpi = 72)\n",
    "\n",
    "ax1  = sns.scatterplot(y = \"Height\" ,x = \"Weight\", hue = \"Sport\", alpha = 0.2, data = data[data.Sex == \"F\"], ax=ax[0] )\n",
    "ax2  = sns.scatterplot(y = \"Height\" ,x = \"Weight\", hue = \"Sport\", alpha = 0.2, data = data[data.Sex == \"M\"] , ax=ax[1])\n",
    "\n",
    "#Full range of dataset\n",
    "minHeight = min(data[\"Height\"])\n",
    "maxHeight = max(data[\"Height\"])\n",
    "\n",
    "minWeight = min(data[\"Weight\"])\n",
    "maxWeight = max(data[\"Weight\"])\n",
    "\n",
    "#axes shuold be equal\n",
    "ax1.set_ylim((minHeight * 0.9 ,maxHeight * 1.1))\n",
    "ax2.set_ylim((minHeight * 0.9 ,maxHeight * 1.1))\n",
    "\n",
    "ax1.set_xlim((minWeight * 0.5 ,maxWeight * 1.1))\n",
    "ax2.set_xlim((minWeight * 0.5 ,maxWeight * 1.1))\n",
    "\n",
    "#legend will be very long, better to just remove\n",
    "ax1.get_legend().remove()\n",
    "ax2.get_legend().remove()\n",
    "\n",
    "ax1.title.set_text(\"Female\")\n",
    "ax2.title.set_text(\"Male\")\n",
    "\n",
    "ax1.set_xlabel(\"Weight (Kg)\")\n",
    "ax2.set_xlabel(\"Weight (Kg)\")\n",
    "\n",
    "ax1.set_ylabel(\"Height (Cm)\")\n",
    "ax2.set_ylabel(\"Height (Cm)\")\n",
    "fig.tight_layout(pad=4)\n",
    "\n",
    "fig.suptitle(\"Weight and Height of olympics athletes from 1896 to 2016 \\n split by gender, color by sport\")\n",
    "\n",
    "\n",
    "plt.show()"
   ]
  },
  {
   "cell_type": "code",
   "execution_count": 21,
   "id": "52d86025",
   "metadata": {},
   "outputs": [
    {
     "name": "stdout",
     "output_type": "stream",
     "text": [
      "created folder :  fullGifFolder/\n"
     ]
    }
   ],
   "source": [
    "#makes a gif of all data\n",
    "allEvents = data[\"Event\"].unique()\n",
    "outputFolder = \"fullGifFolder/\"\n",
    "\n",
    "\n",
    "\n",
    "# If folder doesn't exist, then create it.\n",
    "if not os.path.isdir(outputFolder):\n",
    "    os.makedirs(outputFolder)\n",
    "    print(\"created folder : \", outputFolder)\n",
    "\n",
    "else:\n",
    "    print(outputFolder, \"folder already exists.\")\n",
    "\n",
    "\n",
    "\n",
    "createGifFilesFull(data, outputFolder, allEvents, 0, hue = True)\n",
    "\n",
    "\n",
    "createGif(\"gifs/fullgif\",outputFolder,0.3)"
   ]
  },
  {
   "cell_type": "markdown",
   "id": "126a05dd",
   "metadata": {},
   "source": [
    "![SegmentLocal](gifs/fullgif.gif \"segment\")"
   ]
  },
  {
   "cell_type": "code",
   "execution_count": 22,
   "id": "1fc75014",
   "metadata": {},
   "outputs": [
    {
     "name": "stdout",
     "output_type": "stream",
     "text": [
      "                                                Height      Weight\n",
      "Event                                 Year                        \n",
      "Weightlifting Men's Super-Heavyweight 2016  186.173913  140.304348\n",
      "Boxing Men's Light-Flyweight          1976  159.666667   48.259259\n",
      "                                             Height      Weight\n",
      "Event                              Year                        \n",
      "Judo Women's Heavyweight           2004  176.333333  112.166667\n",
      "Gymnastics Women's Team All-Around 1980  151.750000   40.916667\n"
     ]
    }
   ],
   "source": [
    "#creates grouping by event and sex\n",
    "grouping = [\"Event\",\"Year\"]\n",
    "\n",
    "#Want to filter groups with over 10 observations\n",
    "nPointsFiltering = 20\n",
    "\n",
    "#use Height and Weight as variables to calculate difference by\n",
    "calcVars = [\"Height\", \"Weight\"]\n",
    "mData = data[data[\"Sex\"] == \"M\"]\n",
    "fData = data[data[\"Sex\"] == \"F\"]\n",
    "\n",
    "maleDiff = findDiff(mData ,grouping, nPointsFiltering, calcVars)\n",
    "femaleDiff = findDiff(fData ,grouping, nPointsFiltering, calcVars)\n",
    "\n",
    "maleDiff = maleDiff.sort_values(\"Height\",ascending = False)\n",
    "femaleDiff = femaleDiff.sort_values(\"Height\",ascending = False)\n",
    "\n",
    "\n",
    "print(maleDiff)\n",
    "print(femaleDiff)"
   ]
  },
  {
   "cell_type": "code",
   "execution_count": 23,
   "id": "f987de87",
   "metadata": {},
   "outputs": [
    {
     "data": {
      "image/png": "[encoded data removed]",
      "text/plain": [
       "<Figure size 512.47x288 with 1 Axes>"
      ]
     },
     "metadata": {
      "needs_background": "light"
     },
     "output_type": "display_data"
    }
   ],
   "source": [
    "#there must be a better way to visualize \n",
    "\n",
    "#combine dataframes\n",
    "combinedDiffs = pd.concat([maleDiff,femaleDiff])\n",
    "\n",
    "#to hold to dictionaries defining the plot objects\n",
    "plotDicts = []\n",
    "\n",
    "#for every row \n",
    "for index, row in combinedDiffs.iterrows():\n",
    "    plotDicts.append({\"color\" : np.concatenate([np.random.random(3),[1]]), \n",
    "       \"width\" : row[\"Weight\"],\n",
    "       \"height\" : row[\"Height\"],\n",
    "       \"label\" : index[0] +\"\\n \"+ str(index[1])})\n",
    "\n",
    "imgFile = \"data_olympics/img.png\"\n",
    "\n",
    "fig, ax = sizeCompare(plotDicts,imgFile)\n",
    "\n",
    "ax.set_ylabel(\"Height (Cm)\")\n",
    "\n",
    "plt.show()\n",
    "\n",
    "\n",
    "#This is the average athletes of the events and years which have the biggest difference"
   ]
  },
  {
   "cell_type": "code",
   "execution_count": 24,
   "id": "11911b47",
   "metadata": {},
   "outputs": [
    {
     "data": {
      "text/html": [
       "<div>\n",
       "<style scoped>\n",
       "    .dataframe tbody tr th:only-of-type {\n",
       "        vertical-align: middle;\n",
       "    }\n",
       "\n",
       "    .dataframe tbody tr th {\n",
       "        vertical-align: top;\n",
       "    }\n",
       "\n",
       "    .dataframe thead th {\n",
       "        text-align: right;\n",
       "    }\n",
       "</style>\n",
       "<table border=\"1\" class=\"dataframe\">\n",
       "  <thead>\n",
       "    <tr style=\"text-align: right;\">\n",
       "      <th></th>\n",
       "      <th></th>\n",
       "      <th>Height</th>\n",
       "      <th>Weight</th>\n",
       "    </tr>\n",
       "    <tr>\n",
       "      <th>Event</th>\n",
       "      <th>Year</th>\n",
       "      <th></th>\n",
       "      <th></th>\n",
       "    </tr>\n",
       "  </thead>\n",
       "  <tbody>\n",
       "    <tr>\n",
       "      <th>Weightlifting Men's Super-Heavyweight</th>\n",
       "      <th>2016</th>\n",
       "      <td>186.173913</td>\n",
       "      <td>140.304348</td>\n",
       "    </tr>\n",
       "    <tr>\n",
       "      <th>Boxing Men's Light-Flyweight</th>\n",
       "      <th>1976</th>\n",
       "      <td>159.666667</td>\n",
       "      <td>48.259259</td>\n",
       "    </tr>\n",
       "    <tr>\n",
       "      <th>Judo Women's Heavyweight</th>\n",
       "      <th>2004</th>\n",
       "      <td>176.333333</td>\n",
       "      <td>112.166667</td>\n",
       "    </tr>\n",
       "    <tr>\n",
       "      <th>Gymnastics Women's Team All-Around</th>\n",
       "      <th>1980</th>\n",
       "      <td>151.750000</td>\n",
       "      <td>40.916667</td>\n",
       "    </tr>\n",
       "  </tbody>\n",
       "</table>\n",
       "</div>"
      ],
      "text/plain": [
       "                                                Height      Weight\n",
       "Event                                 Year                        \n",
       "Weightlifting Men's Super-Heavyweight 2016  186.173913  140.304348\n",
       "Boxing Men's Light-Flyweight          1976  159.666667   48.259259\n",
       "Judo Women's Heavyweight              2004  176.333333  112.166667\n",
       "Gymnastics Women's Team All-Around    1980  151.750000   40.916667"
      ]
     },
     "metadata": {},
     "output_type": "display_data"
    }
   ],
   "source": [
    "display(combinedDiffs)"
   ]
  },
  {
   "cell_type": "code",
   "execution_count": 25,
   "id": "f9a2e6ef",
   "metadata": {},
   "outputs": [
    {
     "data": {
      "image/png": "[encoded data removed]",
      "text/plain": [
       "<Figure size 432x288 with 1 Axes>"
      ]
     },
     "metadata": {
      "needs_background": "light"
     },
     "output_type": "display_data"
    }
   ],
   "source": [
    "#First find a way to define how to see if the athletes have changed over time.\n",
    "# One way is to find the trend for each variable by linear regression.\n",
    "\n",
    "#this would look something like this\n",
    "exampleFrame = data[data[\"Event\"] == \"Basketball Men's Basketball\"]\n",
    "\n",
    "reg = LinearRegression().fit(exampleFrame[\"Year\"].values.reshape(-1, 1), exampleFrame[\"Height\"].values)\n",
    "\n",
    "fig, ax = plt.subplots()\n",
    "\n",
    "sns.regplot(x = \"Year\", y = \"Weight\", data = exampleFrame, ci = None)\n",
    "\n",
    "ax.set_ylabel(\"Height (Cm)\")\n",
    "\n",
    "ax.title.set_text(\"Calculated Trend = \" +str(round(reg.coef_[0],2)))\n",
    "\n",
    "plt.show()\n"
   ]
  },
  {
   "cell_type": "code",
   "execution_count": 26,
   "id": "3f69c464",
   "metadata": {},
   "outputs": [
    {
     "data": {
      "image/png": "[encoded data removed]",
      "text/plain": [
       "<Figure size 432x288 with 1 Axes>"
      ]
     },
     "metadata": {
      "needs_background": "light"
     },
     "output_type": "display_data"
    }
   ],
   "source": [
    "grouping = [\"Event\",\"Year\"]\n",
    "nPointsFiltering = 20\n",
    "calcVars = [\"Height\",\"Weight\"]\n",
    "nYearsFiltering = 10\n",
    "\n",
    "fig, ax = plt.subplots()\n",
    "\n",
    "trendFrame = diffInSport(data, grouping, nPointsFiltering, nYearsFiltering, calcVars)\n",
    "\n",
    "ax.axhline(0, color='black', alpha = 0.2)\n",
    "ax.axvline(0, color='black', alpha = 0.2)\n",
    "\n",
    "sns.scatterplot(x = \"Weight\"  , y = \"Height\" ,  data =  trendFrame)\n",
    "\n",
    "ax.title.set_text(\"Trends in Weight and Height for different events in olympics\")\n",
    "ax.set_ylabel(\"Trend value Height\")\n",
    "ax.set_xlabel(\"Trend value Weight\")\n",
    "\n",
    "\n",
    "plt.show()"
   ]
  },
  {
   "cell_type": "code",
   "execution_count": 27,
   "id": "0b0cc3b3",
   "metadata": {},
   "outputs": [
    {
     "data": {
      "text/html": [
       "<div>\n",
       "<style scoped>\n",
       "    .dataframe tbody tr th:only-of-type {\n",
       "        vertical-align: middle;\n",
       "    }\n",
       "\n",
       "    .dataframe tbody tr th {\n",
       "        vertical-align: top;\n",
       "    }\n",
       "\n",
       "    .dataframe thead th {\n",
       "        text-align: right;\n",
       "    }\n",
       "</style>\n",
       "<table border=\"1\" class=\"dataframe\">\n",
       "  <thead>\n",
       "    <tr style=\"text-align: right;\">\n",
       "      <th></th>\n",
       "      <th>Height</th>\n",
       "      <th>Weight</th>\n",
       "      <th>Group</th>\n",
       "      <th>ChangeSize</th>\n",
       "    </tr>\n",
       "  </thead>\n",
       "  <tbody>\n",
       "    <tr>\n",
       "      <th>122</th>\n",
       "      <td>0.232624</td>\n",
       "      <td>0.572873</td>\n",
       "      <td>Sailing Mixed Two Person Keelboat</td>\n",
       "      <td>0.618302</td>\n",
       "    </tr>\n",
       "    <tr>\n",
       "      <th>121</th>\n",
       "      <td>0.222290</td>\n",
       "      <td>0.460150</td>\n",
       "      <td>Sailing Mixed Three Person Keelboat</td>\n",
       "      <td>0.511029</td>\n",
       "    </tr>\n",
       "    <tr>\n",
       "      <th>47</th>\n",
       "      <td>0.177516</td>\n",
       "      <td>0.433177</td>\n",
       "      <td>Bobsleigh Men's Two</td>\n",
       "      <td>0.468139</td>\n",
       "    </tr>\n",
       "  </tbody>\n",
       "</table>\n",
       "</div>"
      ],
      "text/plain": [
       "       Height    Weight                                Group  ChangeSize\n",
       "122  0.232624  0.572873    Sailing Mixed Two Person Keelboat    0.618302\n",
       "121  0.222290  0.460150  Sailing Mixed Three Person Keelboat    0.511029\n",
       "47   0.177516  0.433177                  Bobsleigh Men's Two    0.468139"
      ]
     },
     "metadata": {},
     "output_type": "display_data"
    },
    {
     "data": {
      "text/html": [
       "<div>\n",
       "<style scoped>\n",
       "    .dataframe tbody tr th:only-of-type {\n",
       "        vertical-align: middle;\n",
       "    }\n",
       "\n",
       "    .dataframe tbody tr th {\n",
       "        vertical-align: top;\n",
       "    }\n",
       "\n",
       "    .dataframe thead th {\n",
       "        text-align: right;\n",
       "    }\n",
       "</style>\n",
       "<table border=\"1\" class=\"dataframe\">\n",
       "  <thead>\n",
       "    <tr style=\"text-align: right;\">\n",
       "      <th></th>\n",
       "      <th>Height</th>\n",
       "      <th>Weight</th>\n",
       "      <th>Group</th>\n",
       "      <th>ChangeSize</th>\n",
       "    </tr>\n",
       "  </thead>\n",
       "  <tbody>\n",
       "    <tr>\n",
       "      <th>99</th>\n",
       "      <td>-0.144905</td>\n",
       "      <td>-0.201373</td>\n",
       "      <td>Gymnastics Women's Horse Vault</td>\n",
       "      <td>0.248090</td>\n",
       "    </tr>\n",
       "    <tr>\n",
       "      <th>101</th>\n",
       "      <td>-0.143731</td>\n",
       "      <td>-0.159667</td>\n",
       "      <td>Gymnastics Women's Team All-Around</td>\n",
       "      <td>0.214831</td>\n",
       "    </tr>\n",
       "    <tr>\n",
       "      <th>100</th>\n",
       "      <td>-0.122690</td>\n",
       "      <td>-0.146970</td>\n",
       "      <td>Gymnastics Women's Individual All-Around</td>\n",
       "      <td>0.191450</td>\n",
       "    </tr>\n",
       "  </tbody>\n",
       "</table>\n",
       "</div>"
      ],
      "text/plain": [
       "       Height    Weight                                     Group  ChangeSize\n",
       "99  -0.144905 -0.201373            Gymnastics Women's Horse Vault    0.248090\n",
       "101 -0.143731 -0.159667        Gymnastics Women's Team All-Around    0.214831\n",
       "100 -0.122690 -0.146970  Gymnastics Women's Individual All-Around    0.191450"
      ]
     },
     "metadata": {},
     "output_type": "display_data"
    },
    {
     "data": {
      "text/html": [
       "<div>\n",
       "<style scoped>\n",
       "    .dataframe tbody tr th:only-of-type {\n",
       "        vertical-align: middle;\n",
       "    }\n",
       "\n",
       "    .dataframe tbody tr th {\n",
       "        vertical-align: top;\n",
       "    }\n",
       "\n",
       "    .dataframe thead th {\n",
       "        text-align: right;\n",
       "    }\n",
       "</style>\n",
       "<table border=\"1\" class=\"dataframe\">\n",
       "  <thead>\n",
       "    <tr style=\"text-align: right;\">\n",
       "      <th></th>\n",
       "      <th>Height</th>\n",
       "      <th>Weight</th>\n",
       "      <th>Group</th>\n",
       "      <th>ChangeSize</th>\n",
       "    </tr>\n",
       "  </thead>\n",
       "  <tbody>\n",
       "    <tr>\n",
       "      <th>127</th>\n",
       "      <td>0.088265</td>\n",
       "      <td>-0.213634</td>\n",
       "      <td>Ski Jumping Men's Normal Hill, Individual</td>\n",
       "      <td>0.231150</td>\n",
       "    </tr>\n",
       "    <tr>\n",
       "      <th>126</th>\n",
       "      <td>0.094700</td>\n",
       "      <td>-0.210082</td>\n",
       "      <td>Ski Jumping Men's Large Hill, Individual</td>\n",
       "      <td>0.230440</td>\n",
       "    </tr>\n",
       "    <tr>\n",
       "      <th>113</th>\n",
       "      <td>0.088443</td>\n",
       "      <td>-0.120243</td>\n",
       "      <td>Nordic Combined Men's Individual</td>\n",
       "      <td>0.149266</td>\n",
       "    </tr>\n",
       "  </tbody>\n",
       "</table>\n",
       "</div>"
      ],
      "text/plain": [
       "       Height    Weight                                      Group  ChangeSize\n",
       "127  0.088265 -0.213634  Ski Jumping Men's Normal Hill, Individual    0.231150\n",
       "126  0.094700 -0.210082   Ski Jumping Men's Large Hill, Individual    0.230440\n",
       "113  0.088443 -0.120243           Nordic Combined Men's Individual    0.149266"
      ]
     },
     "metadata": {},
     "output_type": "display_data"
    }
   ],
   "source": [
    "#want to get tod for each quadrant, skip quad2 as we can visualy see there is no event there\n",
    "quad1 = trendFrame[(trendFrame[\"Weight\"] >= 0) & (trendFrame[\"Height\"] >= 0) ]\n",
    "quad3 = trendFrame[(trendFrame[\"Weight\"] < 0) & (trendFrame[\"Height\"] < 0) ]\n",
    "quad4 = trendFrame[(trendFrame[\"Weight\"] < 0) & (trendFrame[\"Height\"] >= 0) ]\n",
    "display(quad1[:3])\n",
    "display(quad3[:3])\n",
    "display(quad4[:3])"
   ]
  },
  {
   "cell_type": "code",
   "execution_count": 28,
   "id": "ad48c8ea",
   "metadata": {},
   "outputs": [],
   "source": [
    "#use full dataset for gifs\n",
    "gifData = pd.read_csv(dataFile)\n",
    "gifData = cleanData(gifData,filterPercent = 1)"
   ]
  },
  {
   "cell_type": "code",
   "execution_count": 29,
   "id": "e7b749d2",
   "metadata": {},
   "outputs": [
    {
     "name": "stdout",
     "output_type": "stream",
     "text": [
      "created folder :  trendGifFolderLabels/\n"
     ]
    }
   ],
   "source": [
    "nObs = 5\n",
    "outputFolder = \"trendGifFolderLabels/\"\n",
    "\n",
    "\n",
    "\n",
    "\n",
    "# If folder doesn't exist, then create it.\n",
    "if not os.path.isdir(outputFolder):\n",
    "    os.makedirs(outputFolder)\n",
    "    print(\"created folder : \", outputFolder)\n",
    "\n",
    "else:\n",
    "    print(outputFolder, \"folder already exists.\")\n",
    "    \n",
    "events = [quad1[\"Group\"].values[0], quad3[\"Group\"].values[0], quad4[\"Group\"].values[0]]\n",
    "\n",
    "createGifFiles(gifData,outputFolder, events, nObs, hue = True)\n",
    "createGif(\"gifs/trendgiflabels\",outputFolder,0.6)"
   ]
  },
  {
   "cell_type": "markdown",
   "id": "4d0136c7",
   "metadata": {},
   "source": [
    "![SegmentLocal](gifs/trendgiflabels.gif \"segment\")"
   ]
  },
  {
   "cell_type": "code",
   "execution_count": 30,
   "id": "db876da3",
   "metadata": {},
   "outputs": [
    {
     "name": "stdout",
     "output_type": "stream",
     "text": [
      "created folder :  trendGifFolderNoLabels/\n"
     ]
    }
   ],
   "source": [
    "nObs = 5\n",
    "outputFolder = \"trendGifFolderNoLabels/\"\n",
    "\n",
    "\n",
    "\n",
    "# If folder doesn't exist, then create it.\n",
    "if not os.path.isdir(outputFolder):\n",
    "    os.makedirs(outputFolder)\n",
    "    print(\"created folder : \", outputFolder)\n",
    "\n",
    "else:\n",
    "    print(outputFolder, \"folder already exists.\")\n",
    "    \n",
    "    \n",
    "events = [quad1[\"Group\"].values[0], quad3[\"Group\"].values[0], quad4[\"Group\"].values[0]]\n",
    "\n",
    "createGifFiles(gifData,outputFolder, events, nObs, hue = False)\n",
    "createGif(\"gifs/trendgifnolabels\",outputFolder,0.6)"
   ]
  },
  {
   "cell_type": "markdown",
   "id": "720f7af8",
   "metadata": {},
   "source": [
    "![SegmentLocal](gifs/trendgifnolabels.gif \"segment\")"
   ]
  },
  {
   "cell_type": "code",
   "execution_count": null,
   "id": "3f176f19",
   "metadata": {},
   "outputs": [],
   "source": [
    "# we might also be interested in which sports have the most homogenous group of athlets and which has the least.\n",
    "# to do this we study the generalised variance. "
   ]
  },
  {
   "cell_type": "code",
   "execution_count": 31,
   "id": "64bb2262",
   "metadata": {},
   "outputs": [],
   "source": [
    "#decide groups \n",
    "grouping = [\"Sex\",\"Event\", \"Year\"]\n",
    "nPointsFiltering = 20\n",
    "calcVars = [\"Weight\",\"Height\"]\n",
    "\n",
    "\n",
    "dataVar = genVar(data, grouping, nPointsFiltering, calcVars)\n"
   ]
  },
  {
   "cell_type": "code",
   "execution_count": 32,
   "id": "c5847b84",
   "metadata": {},
   "outputs": [
    {
     "data": {
      "text/html": [
       "<div>\n",
       "<style scoped>\n",
       "    .dataframe tbody tr th:only-of-type {\n",
       "        vertical-align: middle;\n",
       "    }\n",
       "\n",
       "    .dataframe tbody tr th {\n",
       "        vertical-align: top;\n",
       "    }\n",
       "\n",
       "    .dataframe thead th {\n",
       "        text-align: right;\n",
       "    }\n",
       "</style>\n",
       "<table border=\"1\" class=\"dataframe\">\n",
       "  <thead>\n",
       "    <tr style=\"text-align: right;\">\n",
       "      <th></th>\n",
       "      <th>Sex</th>\n",
       "      <th>Event</th>\n",
       "      <th>Year</th>\n",
       "      <th>Weight</th>\n",
       "      <th>Height</th>\n",
       "      <th>GenVec</th>\n",
       "      <th>nObservations</th>\n",
       "    </tr>\n",
       "  </thead>\n",
       "  <tbody>\n",
       "    <tr>\n",
       "      <th>2703</th>\n",
       "      <td>M</td>\n",
       "      <td>Judo Men's Heavyweight</td>\n",
       "      <td>2012</td>\n",
       "      <td>128.774194</td>\n",
       "      <td>190.774194</td>\n",
       "      <td>25768.379074</td>\n",
       "      <td>31</td>\n",
       "    </tr>\n",
       "    <tr>\n",
       "      <th>2702</th>\n",
       "      <td>M</td>\n",
       "      <td>Judo Men's Heavyweight</td>\n",
       "      <td>2008</td>\n",
       "      <td>133.281250</td>\n",
       "      <td>191.156250</td>\n",
       "      <td>22258.407150</td>\n",
       "      <td>32</td>\n",
       "    </tr>\n",
       "    <tr>\n",
       "      <th>2701</th>\n",
       "      <td>M</td>\n",
       "      <td>Judo Men's Heavyweight</td>\n",
       "      <td>2004</td>\n",
       "      <td>123.757576</td>\n",
       "      <td>188.757576</td>\n",
       "      <td>15171.259531</td>\n",
       "      <td>33</td>\n",
       "    </tr>\n",
       "    <tr>\n",
       "      <th>2839</th>\n",
       "      <td>M</td>\n",
       "      <td>Rowing Men's Coxed Pairs</td>\n",
       "      <td>1984</td>\n",
       "      <td>76.750000</td>\n",
       "      <td>181.250000</td>\n",
       "      <td>14178.525077</td>\n",
       "      <td>36</td>\n",
       "    </tr>\n",
       "    <tr>\n",
       "      <th>3087</th>\n",
       "      <td>M</td>\n",
       "      <td>Shooting Men's Trap</td>\n",
       "      <td>2016</td>\n",
       "      <td>91.225806</td>\n",
       "      <td>180.354839</td>\n",
       "      <td>13677.578598</td>\n",
       "      <td>31</td>\n",
       "    </tr>\n",
       "    <tr>\n",
       "      <th>...</th>\n",
       "      <td>...</td>\n",
       "      <td>...</td>\n",
       "      <td>...</td>\n",
       "      <td>...</td>\n",
       "      <td>...</td>\n",
       "      <td>...</td>\n",
       "      <td>...</td>\n",
       "    </tr>\n",
       "    <tr>\n",
       "      <th>1959</th>\n",
       "      <td>M</td>\n",
       "      <td>Boxing Men's Light-Welterweight</td>\n",
       "      <td>2000</td>\n",
       "      <td>62.962963</td>\n",
       "      <td>173.000000</td>\n",
       "      <td>7.812884</td>\n",
       "      <td>27</td>\n",
       "    </tr>\n",
       "    <tr>\n",
       "      <th>1934</th>\n",
       "      <td>M</td>\n",
       "      <td>Boxing Men's Light-Heavyweight</td>\n",
       "      <td>2000</td>\n",
       "      <td>80.785714</td>\n",
       "      <td>183.714286</td>\n",
       "      <td>6.540087</td>\n",
       "      <td>28</td>\n",
       "    </tr>\n",
       "    <tr>\n",
       "      <th>1986</th>\n",
       "      <td>M</td>\n",
       "      <td>Boxing Men's Middleweight</td>\n",
       "      <td>2004</td>\n",
       "      <td>74.964286</td>\n",
       "      <td>181.214286</td>\n",
       "      <td>4.989887</td>\n",
       "      <td>28</td>\n",
       "    </tr>\n",
       "    <tr>\n",
       "      <th>1929</th>\n",
       "      <td>M</td>\n",
       "      <td>Boxing Men's Light-Flyweight</td>\n",
       "      <td>2016</td>\n",
       "      <td>48.954545</td>\n",
       "      <td>161.181818</td>\n",
       "      <td>1.017280</td>\n",
       "      <td>22</td>\n",
       "    </tr>\n",
       "    <tr>\n",
       "      <th>3647</th>\n",
       "      <td>M</td>\n",
       "      <td>Wrestling Men's Welterweight, Freestyle</td>\n",
       "      <td>2008</td>\n",
       "      <td>66.000000</td>\n",
       "      <td>170.142857</td>\n",
       "      <td>0.000000</td>\n",
       "      <td>21</td>\n",
       "    </tr>\n",
       "  </tbody>\n",
       "</table>\n",
       "<p>3651 rows × 7 columns</p>\n",
       "</div>"
      ],
      "text/plain": [
       "     Sex                                    Event  Year      Weight  \\\n",
       "2703   M                   Judo Men's Heavyweight  2012  128.774194   \n",
       "2702   M                   Judo Men's Heavyweight  2008  133.281250   \n",
       "2701   M                   Judo Men's Heavyweight  2004  123.757576   \n",
       "2839   M                 Rowing Men's Coxed Pairs  1984   76.750000   \n",
       "3087   M                      Shooting Men's Trap  2016   91.225806   \n",
       "...   ..                                      ...   ...         ...   \n",
       "1959   M          Boxing Men's Light-Welterweight  2000   62.962963   \n",
       "1934   M           Boxing Men's Light-Heavyweight  2000   80.785714   \n",
       "1986   M                Boxing Men's Middleweight  2004   74.964286   \n",
       "1929   M             Boxing Men's Light-Flyweight  2016   48.954545   \n",
       "3647   M  Wrestling Men's Welterweight, Freestyle  2008   66.000000   \n",
       "\n",
       "          Height        GenVec  nObservations  \n",
       "2703  190.774194  25768.379074             31  \n",
       "2702  191.156250  22258.407150             32  \n",
       "2701  188.757576  15171.259531             33  \n",
       "2839  181.250000  14178.525077             36  \n",
       "3087  180.354839  13677.578598             31  \n",
       "...          ...           ...            ...  \n",
       "1959  173.000000      7.812884             27  \n",
       "1934  183.714286      6.540087             28  \n",
       "1986  181.214286      4.989887             28  \n",
       "1929  161.181818      1.017280             22  \n",
       "3647  170.142857      0.000000             21  \n",
       "\n",
       "[3651 rows x 7 columns]"
      ]
     },
     "execution_count": 32,
     "metadata": {},
     "output_type": "execute_result"
    }
   ],
   "source": [
    "dataVar.sort_values(\"GenVec\",ascending = False)"
   ]
  },
  {
   "cell_type": "code",
   "execution_count": 33,
   "id": "e3d730a7",
   "metadata": {},
   "outputs": [
    {
     "data": {
      "image/png": "[encoded data removed]",
      "text/plain": [
       "<Figure size 576x432 with 1 Axes>"
      ]
     },
     "metadata": {
      "needs_background": "light"
     },
     "output_type": "display_data"
    }
   ],
   "source": [
    "plotSpreads(data,[\"Athletics Men's Shot Put\",\"Wrestling Men's Welterweight, Freestyle\"],None)"
   ]
  },
  {
   "cell_type": "code",
   "execution_count": 34,
   "id": "26025cab",
   "metadata": {},
   "outputs": [],
   "source": [
    "#Byt ut nan till 'None'\n",
    "data['Medal'] = data['Medal'].fillna('None')"
   ]
  },
  {
   "cell_type": "code",
   "execution_count": 35,
   "id": "76b2e56c",
   "metadata": {},
   "outputs": [],
   "source": [
    "#Mahalanobi distance grouped by Sex, Year and Sport\n",
    "for sex in data['Sex'].sort_values().unique():\n",
    "        sex_data = data[data['Sex'] == sex]\n",
    "        \n",
    "        for y in data['Year'].sort_values().unique():\n",
    "            sex_year_data = sex_data[sex_data['Year'] == y]\n",
    "\n",
    "            for event in data['Event'].sort_values().unique():\n",
    "                event_data = sex_year_data[sex_year_data['Event'] == event]\n",
    "                \n",
    "                #If group less than 20: Skip\n",
    "                if event_data.shape[0] <= 20:\n",
    "                    pass\n",
    "\n",
    "                    \n",
    "                else:\n",
    "                    #Check that inverse of cov is defined\n",
    "                    try:\n",
    "                        sp.linalg.inv(np.cov(event_data[['Height', 'Weight']].values.T))\n",
    "                        \n",
    "                    except: \n",
    "                        pass\n",
    "                    \n",
    "                    else:\n",
    "                        data.loc[(data['Sex'] == sex)  & (data['Event'] == event) & (data['Year'] == y), 'mahalanobi'] = \\\n",
    "                            mahalanobis(event_data[['Height', 'Weight']], event_data[['Height', 'Weight']])"
   ]
  },
  {
   "cell_type": "code",
   "execution_count": 36,
   "id": "cc000f25",
   "metadata": {},
   "outputs": [],
   "source": [
    "#Drop rows where mahalanobi was not calculated\n",
    "data2 = data.dropna(subset=['mahalanobi'])\n"
   ]
  },
  {
   "cell_type": "code",
   "execution_count": 37,
   "id": "46399429",
   "metadata": {},
   "outputs": [],
   "source": [
    "#Calculate p-values for mahalanobi\n",
    "#2 dfs\n",
    "data2['p-value'] = 1 - chi2.cdf(data2['mahalanobi'], 2)"
   ]
  },
  {
   "cell_type": "code",
   "execution_count": 38,
   "id": "867e93c8",
   "metadata": {},
   "outputs": [],
   "source": [
    "#Define athletes with p-value < 0.05 as outliers \n",
    "if 'Outlier Group' in data2.columns:\n",
    "        data2 = data2.drop(columns=['Outlier Group'])\n",
    "\n",
    "outlier = pd.cut(data2['p-value'], bins= [0,0.05,1] , labels=['Outlier', 'Normal'])\n",
    "data2.insert(0,'Outlier Group',outlier)"
   ]
  },
  {
   "cell_type": "code",
   "execution_count": 39,
   "id": "29ef5908",
   "metadata": {},
   "outputs": [
    {
     "data": {
      "image/png": "[encoded data removed]",
      "text/plain": [
       "<Figure size 432x288 with 1 Axes>"
      ]
     },
     "metadata": {
      "needs_background": "light"
     },
     "output_type": "display_data"
    },
    {
     "data": {
      "image/png": "[encoded data removed]",
      "text/plain": [
       "<Figure size 432x288 with 1 Axes>"
      ]
     },
     "metadata": {
      "needs_background": "light"
     },
     "output_type": "display_data"
    },
    {
     "name": "stdout",
     "output_type": "stream",
     "text": [
      "                                 Name  Height  Weight   p-value\n",
      "120743              Mikhail Klecherov   161.0    51.0  0.001916\n",
      "234162                 ukasz Szczurek   180.0    60.0  0.006579\n",
      "88889              Simon Hallenbarter   193.0    91.0  0.006596\n",
      "9938      Skinnar Per Tobias Arwidson   170.0    74.0  0.021279\n",
      "68713   Bjrn Lars Johannes Erik Ferry   194.0    83.0  0.041620\n",
      "39690   Vladimir Vitalyevich Chepelin   171.0    74.0  0.041837\n",
      "225726                Jaroslav Soukup   183.0    66.0  0.066234\n"
     ]
    }
   ],
   "source": [
    "#Plot outliers\n",
    "\n",
    "y = data2[data2['Year']==2014]\n",
    "s = y[y['Sex']=='M']\n",
    "#print(s['Event'].unique())\n",
    "e = s[s['Event'] == \"Biathlon Men's 20 kilometres\"]\n",
    "df = e[['Height', 'Weight']]\n",
    "df = df.to_numpy()\n",
    "\n",
    "plt.scatter(df[: , 0], df[ : , 1])\n",
    "\n",
    "covariance = np.cov(df, rowvar=False)\n",
    "covariance\n",
    "centerpoint = np.mean(df , axis=0)\n",
    "cutoff = chi2.ppf(0.95, df.shape[1])\n",
    "\n",
    "pearson = covariance[0, 1]/np.sqrt(covariance[0, 0] * covariance[1, 1])\n",
    "ell_radius_x = np.sqrt(1 + pearson)\n",
    "ell_radius_y = np.sqrt(1 - pearson)\n",
    "lambda_, v = np.linalg.eig(covariance)\n",
    "lambda_ = np.sqrt(lambda_)\n",
    "\n",
    "ellipse = patches.Ellipse(xy=(centerpoint[0], centerpoint[1]),\n",
    "                  width=lambda_[0]*np.sqrt(cutoff)*2, height=lambda_[1]*np.sqrt(cutoff)*2,\n",
    "                  angle=np.rad2deg(np.arccos(v[0, 0])), edgecolor='#fab1a0')\n",
    "\n",
    "\n",
    "ellipse.set_facecolor('#0984e3')\n",
    "ellipse.set_alpha(0.5)\n",
    "fig = plt.figure()\n",
    "ax = plt.subplot()\n",
    "ax.add_artist(ellipse)\n",
    "plt.scatter(df[: , 0], df[ : , 1])\n",
    "\n",
    "ax.set_xlabel(\"Height (Cm)\")\n",
    "ax.set_ylabel(\"Weight (Kg)\")\n",
    "\n",
    "\n",
    "plt.show()\n",
    "\n",
    "#Print relevent observations\n",
    "print(e[['Name', 'Height', 'Weight', 'p-value']].sort_values('p-value', ascending = True).head(7))"
   ]
  },
  {
   "cell_type": "code",
   "execution_count": 40,
   "id": "52615e2c",
   "metadata": {},
   "outputs": [],
   "source": [
    "#create column, medal_won. 1 if medal is won, 0 if not\n",
    "data2.loc[:,'Medal_Won'] = 1\n",
    "data2.loc[(data2['Medal'] == 'None'),'Medal_Won'] = 0"
   ]
  },
  {
   "cell_type": "code",
   "execution_count": 41,
   "id": "49f07746",
   "metadata": {},
   "outputs": [
    {
     "data": {
      "text/plain": [
       "Text(0.5, 20.80000000000002, 'Medal')"
      ]
     },
     "execution_count": 41,
     "metadata": {},
     "output_type": "execute_result"
    },
    {
     "data": {
      "text/plain": [
       "<Figure size 576x576 with 0 Axes>"
      ]
     },
     "metadata": {},
     "output_type": "display_data"
    },
    {
     "data": {
      "image/png": "[encoded data removed]",
      "text/plain": [
       "<Figure size 507.375x360 with 1 Axes>"
      ]
     },
     "metadata": {
      "needs_background": "light"
     },
     "output_type": "display_data"
    }
   ],
   "source": [
    "plt.figure(figsize=(8, 8))\n",
    "#create barplot\n",
    "g = (data2\n",
    ".groupby('Outlier Group')['Medal']\n",
    ".value_counts(normalize=True)\n",
    ".mul(100)\n",
    ".rename('percent')\n",
    ".reset_index()\n",
    ".pipe((sns.catplot,'data'), height=5, aspect=1.2, x='Medal',y='percent',hue='Outlier Group',kind='bar', order=['None', 'Bronze','Silver','Gold']))\n",
    "\n",
    "g.ax.set_ylim(0,100)\n",
    "\n",
    "#add ellipse\n",
    "for p in g.ax.patches:\n",
    "    txt = str(p.get_height().round(2)) + '%'\n",
    "    txt_x = p.get_x() \n",
    "    txt_y = p.get_height()\n",
    "    g.ax.text(txt_x+0.05,txt_y+2,txt, fontsize = 10.5)\n",
    "\n",
    "#change labels\n",
    "g.ax.set_ylabel(\"Percent\")\n",
    "g.ax.set_xlabel(\"Medal\")\n"
   ]
  },
  {
   "cell_type": "code",
   "execution_count": 42,
   "id": "47557d0a",
   "metadata": {},
   "outputs": [
    {
     "name": "stdout",
     "output_type": "stream",
     "text": [
      "Approach 1: The p-value approach to hypothesis testing in the decision rule\n",
      "chisquare-score is: 11.222207359351456  and p value is: 1.1102230246251565e-16\n",
      "Null Hypothesis is rejected.\n",
      "\n",
      "--------------------------------------------------------------------------------------\n",
      "Approach 2: The critical value approach to hypothesis testing in the decision rule\n",
      "chisquare-score is: 11.222207359351456  and critical value is: 7.814727903251179\n",
      "Null Hypothesis is rejected.\n"
     ]
    }
   ],
   "source": [
    "##https://towardsdatascience.com/chi-square-test-with-python-d8ba98117626\n",
    "#Test of independence\n",
    "\n",
    "data_crosstab = pd.crosstab(data2['Outlier Group'] , data2['Medal'], margins=True, margins_name=\"Total\")\n",
    "#significance level\n",
    "alpha = 0.05\n",
    "\n",
    "# Calcualtion of Chisquare test statistics\n",
    "chi_square = 0\n",
    "rows = data2['Outlier Group'].unique()\n",
    "columns = data2['Medal'].unique()\n",
    "for i in columns:\n",
    "    for j in rows:\n",
    "        O = data_crosstab[i][j]\n",
    "        E = data_crosstab[i]['Total'] * data_crosstab['Total'][j] / data_crosstab['Total']['Total']\n",
    "        chi_square += (O-E)**2/E\n",
    "\n",
    "# The p-value approach\n",
    "print(\"Approach 1: The p-value approach to hypothesis testing in the decision rule\")\n",
    "p_value = 1 - stats.norm.cdf(chi_square, (len(rows)-1)*(len(columns)-1))\n",
    "conclusion = \"Failed to reject the null hypothesis.\"\n",
    "if p_value <= alpha:\n",
    "    conclusion = \"Null Hypothesis is rejected.\"\n",
    "        \n",
    "print(\"chisquare-score is:\", chi_square, \" and p value is:\", p_value)\n",
    "print(conclusion)\n",
    "    \n",
    "# The critical value approach\n",
    "print(\"\\n--------------------------------------------------------------------------------------\")\n",
    "print(\"Approach 2: The critical value approach to hypothesis testing in the decision rule\")\n",
    "critical_value = stats.chi2.ppf(1-alpha, (len(rows)-1)*(len(columns)-1))\n",
    "conclusion = \"Failed to reject the null hypothesis.\"\n",
    "if chi_square > critical_value:\n",
    "    conclusion = \"Null Hypothesis is rejected.\"\n",
    "        \n",
    "print(\"chisquare-score is:\", chi_square, \" and critical value is:\", critical_value)\n",
    "print(conclusion)\n"
   ]
  },
  {
   "cell_type": "code",
   "execution_count": 43,
   "id": "b75b5c38",
   "metadata": {},
   "outputs": [
    {
     "name": "stdout",
     "output_type": "stream",
     "text": [
      "Medal          Bronze  Gold    None  Silver   Total\n",
      "Outlier Group                                      \n",
      "Outlier           404   421    8537     405    9767\n",
      "Normal           8085  7958  149845    7864  173752\n",
      "Total            8489  8379  158382    8269  183519\n"
     ]
    }
   ],
   "source": [
    "print(data_crosstab)"
   ]
  },
  {
   "cell_type": "markdown",
   "id": "d17e7a19",
   "metadata": {},
   "source": [
    "\n"
   ]
  }
 ],
 "metadata": {
  "kernelspec": {
   "display_name": "Python 3 (ipykernel)",
   "language": "python",
   "name": "python3"
  },
  "language_info": {
   "codemirror_mode": {
    "name": "ipython",
    "version": 3
   },
   "file_extension": ".py",
   "mimetype": "text/x-python",
   "name": "python",
   "nbconvert_exporter": "python",
   "pygments_lexer": "ipython3",
   "version": "3.8.11"
  }
 },
 "nbformat": 4,
 "nbformat_minor": 5
}
